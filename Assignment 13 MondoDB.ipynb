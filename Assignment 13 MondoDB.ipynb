{
 "cells": [
  {
   "cell_type": "markdown",
   "id": "4d62562c-bbdd-4207-bda3-ba6f66e8e069",
   "metadata": {},
   "source": [
    "Q1. What is MongoDB? Explain non-relational databases in short. In which scenarios it is preferred to use\n",
    "MongoDB over SQL databases?\n",
    "\n",
    "ANS:\n",
    "\n",
    "MongoDB is a popular NoSQL (non-relational) database management system that is designed for storing, retrieving, and managing large volumes of data in a flexible and scalable manner. MongoDB is known for its document-oriented data model, which means it stores data in a format similar to JSON documents, making it suitable for a wide range of applications and use cases.\n",
    "\n",
    "Here's a brief explanation of non-relational databases and when MongoDB is preferred over SQL databases:\n",
    "\n",
    "Non-relational databases (NoSQL):\n",
    "Non-relational databases, often referred to as NoSQL databases, are a category of database management systems that depart from the traditional relational database model (SQL databases). They are designed to handle large and complex datasets and offer flexibility, scalability, and performance advantages for certain use cases. Key characteristics of NoSQL databases include:\n",
    "\n",
    "Schema flexibility: NoSQL databases can handle unstructured or semi-structured data and do not require a fixed schema definition.\n",
    "Horizontal scalability: Many NoSQL databases can scale out horizontally by adding more servers or nodes to accommodate increasing data loads.\n",
    "Different data models: NoSQL databases support various data models, including document-oriented, key-value, column-family, and graph databases, to better match specific application needs.\n",
    "When MongoDB is preferred over SQL databases:\n",
    "MongoDB is often preferred over SQL databases in the following scenarios:\n",
    "\n",
    "Semi-structured or rapidly evolving data: MongoDB's flexible schema allows you to store data without a predefined structure. This is beneficial when dealing with data that evolves over time or doesn't fit neatly into a tabular structure.\n",
    "\n",
    "Scalability: MongoDB is well-suited for applications with high scalability requirements. It can easily distribute data across multiple servers, making it suitable for handling large amounts of data and high traffic loads.\n",
    "\n",
    "Complex queries: While MongoDB doesn't support the complex querying capabilities of SQL (Structured Query Language), it can handle a wide range of queries. For applications where the need for complex joins and transactions is minimal, MongoDB's query language is sufficient.\n",
    "\n",
    "Real-time analytics: MongoDB is often used in scenarios where real-time data analysis and processing are required, such as in Internet of Things (IoT) applications, social media platforms, and real-time monitoring systems.\n",
    "\n",
    "Dynamic and agile development: MongoDB is favored by development teams that need to iterate quickly and make frequent changes to the data model. Its schema-less nature allows for agile development and faster time-to-market.\n",
    "\n",
    "Geospatial data: MongoDB has built-in support for geospatial data and queries, making it a preferred choice for applications that involve location-based services."
   ]
  },
  {
   "cell_type": "code",
   "execution_count": null,
   "id": "aa98db2c-4ee5-4b08-93bb-43698f6ecef0",
   "metadata": {},
   "outputs": [],
   "source": []
  },
  {
   "cell_type": "markdown",
   "id": "dfd1bf47-32f7-4e0b-a3d8-b50ea1eae953",
   "metadata": {},
   "source": [
    "Q2. State and Explain the features of MongoDB.\n",
    "\n",
    "ANS:\n",
    "\n",
    "\n",
    "MongoDB is a popular NoSQL database management system known for its flexibility, scalability, and ease of use. It offers a range of features that make it suitable for various application scenarios. Here are some of the key features of MongoDB, along with explanations:\n",
    "\n",
    "Document-Oriented: MongoDB is a document-oriented database, which means it stores data in BSON (Binary JSON) format. Each data record is a JSON-like document, and documents within a collection (similar to a table in relational databases) can have varying structures, allowing for flexible and dynamic data modeling.\n",
    "\n",
    "Schema Flexibility: MongoDB provides schema flexibility, making it ideal for applications with evolving or variable data structures. There's no need to define a fixed schema upfront, and fields can be added or modified in documents as needed.\n",
    "\n",
    "Highly Scalable: MongoDB is designed for horizontal scalability, allowing you to distribute data across multiple servers or nodes to handle large volumes of data and high traffic loads. This is achieved through sharding, which partitions data across different machines.\n",
    "\n",
    "Automatic Sharding: MongoDB provides automatic sharding capabilities, meaning it can automatically distribute data across shards (physical server clusters) to ensure data distribution and availability. This enables horizontal scaling without manual intervention.\n",
    "\n",
    "Rich Query Language: MongoDB's query language supports a wide range of query operations, including filtering, sorting, and geospatial queries. It also provides support for full-text search, text indexing, and aggregation pipelines for complex data transformations.\n",
    "\n",
    "Indexing: MongoDB supports indexing to optimize query performance. You can create custom indexes on fields to speed up data retrieval. MongoDB also includes a default _id index for fast document retrieval.\n",
    "\n",
    "Geospatial Capabilities: MongoDB offers geospatial indexing and queries, making it suitable for location-based applications. You can store and query geospatial data, such as points, lines, and polygons, efficiently.\n",
    "\n",
    "Replication: MongoDB supports data replication to ensure data availability and fault tolerance. It uses replica sets, allowing multiple copies of data across different servers, with one primary and multiple secondary nodes for redundancy.\n",
    "\n",
    "Flexible Data Models: MongoDB supports various data models beyond traditional document storage, including key-value, column-family, and graph data models. This flexibility allows you to choose the right data model for your application.\n",
    "\n",
    "ACID Transactions: MongoDB introduced multi-document ACID transactions in version 4.0, ensuring data consistency and reliability for operations that span multiple documents.\n",
    "\n",
    "Security: MongoDB provides robust security features, including authentication, authorization, role-based access control, and encryption at rest and in transit, to protect sensitive data.\n",
    "\n",
    "Aggregation Framework: MongoDB's aggregation framework allows for advanced data transformation and analysis. It provides operators and expressions for performing complex data manipulations and computations.\n",
    "\n",
    "Community and Ecosystem: MongoDB has a large and active open-source community, extensive documentation, and a rich ecosystem of drivers, libraries, and tools for various programming languages and platforms.\n",
    "\n",
    "Cloud Integration: MongoDB Atlas is a fully managed database service offered by MongoDB, Inc. It allows you to run MongoDB in the cloud with automated provisioning, scaling, and monitoring.\n",
    "\n",
    "Monitoring and Management: MongoDB provides tools like MongoDB Compass for visual query building, monitoring tools, and management interfaces for easy database administration."
   ]
  },
  {
   "cell_type": "code",
   "execution_count": null,
   "id": "19f1295e-527d-45d4-9049-b4d098b1b158",
   "metadata": {},
   "outputs": [],
   "source": []
  },
  {
   "cell_type": "markdown",
   "id": "107d40d9-96d5-4257-8559-60812dda8ac8",
   "metadata": {},
   "source": [
    "Q3. Write a code to connect MongoDB to Python. Also, create a database and a collection in MongoDB.\n",
    "\n",
    "ANS:\n",
    "\n",
    "To connect MongoDB to Python and create a database and a collection, you can use the pymongo library, which is a Python driver for MongoDB. Here's a step-by-step guide and code example:\n",
    "\n",
    "Install the pymongo library if you haven't already:\n"
   ]
  },
  {
   "cell_type": "code",
   "execution_count": 1,
   "id": "4bbdd379-7e16-45db-91e5-17b2fd2f5299",
   "metadata": {},
   "outputs": [
    {
     "name": "stdout",
     "output_type": "stream",
     "text": [
      "Collecting pymongo\n",
      "  Downloading pymongo-4.5.0-cp310-cp310-manylinux_2_17_x86_64.manylinux2014_x86_64.whl (671 kB)\n",
      "\u001b[2K     \u001b[90m━━━━━━━━━━━━━━━━━━━━━━━━━━━━━━━━━━━━━━\u001b[0m \u001b[32m671.3/671.3 kB\u001b[0m \u001b[31m14.4 MB/s\u001b[0m eta \u001b[36m0:00:00\u001b[0ma \u001b[36m0:00:01\u001b[0m\n",
      "\u001b[?25hCollecting dnspython<3.0.0,>=1.16.0\n",
      "  Downloading dnspython-2.4.2-py3-none-any.whl (300 kB)\n",
      "\u001b[2K     \u001b[90m━━━━━━━━━━━━━━━━━━━━━━━━━━━━━━━━━━━━━━\u001b[0m \u001b[32m300.4/300.4 kB\u001b[0m \u001b[31m36.5 MB/s\u001b[0m eta \u001b[36m0:00:00\u001b[0m\n",
      "\u001b[?25hInstalling collected packages: dnspython, pymongo\n",
      "Successfully installed dnspython-2.4.2 pymongo-4.5.0\n",
      "Note: you may need to restart the kernel to use updated packages.\n"
     ]
    }
   ],
   "source": [
    "pip install pymongo\n"
   ]
  },
  {
   "cell_type": "markdown",
   "id": "f10e5304-aa2d-4b68-9bc5-7bbdc2c8b627",
   "metadata": {},
   "source": [
    "Create a Python script to establish a connection to MongoDB, create a database, and create a collection within that database:"
   ]
  },
  {
   "cell_type": "code",
   "execution_count": null,
   "id": "ef3478cb-75d3-4f66-a644-032db06459ce",
   "metadata": {},
   "outputs": [],
   "source": [
    "import pymongo\n",
    "\n",
    "# Define the MongoDB connection parameters\n",
    "mongodb_uri = \"mongodb://localhost:27017/\" \n",
    "database_name = \"mydatabase\"                \n",
    "collection_name = \"mycollection\"           \n",
    "\n",
    "try:\n",
    "    # Establish a connection to MongoDB\n",
    "    client = pymongo.MongoClient(mongodb_uri)\n",
    "\n",
    "    # Access the database (create if it doesn't exist)\n",
    "    database = client[database_name]\n",
    "\n",
    "    # Access the collection (create if it doesn't exist)\n",
    "    collection = database[collection_name]\n",
    "\n",
    "    # Verify if the collection was created\n",
    "    if collection:\n",
    "        print(f\"Connected to MongoDB, created database '{database_name}', and collection '{collection_name}'\")\n",
    "\n",
    "except pymongo.errors.ConnectionFailure as e:\n",
    "    print(f\"Failed to connect to MongoDB: {e}\")\n"
   ]
  },
  {
   "cell_type": "markdown",
   "id": "8bfe6787-291c-4d0e-a477-e141d8235aac",
   "metadata": {},
   "source": [
    "In this code:\n",
    "\n",
    "We import the pymongo library to work with MongoDB.\n",
    "We define the MongoDB URI, which specifies the server's address and port (default is 27017). You may need to adjust this URI to match your MongoDB server's configuration.\n",
    "We specify the name of the database and the name of the collection we want to create.\n",
    "We use a try...except block to handle any connection errors.\n",
    "Inside the try block, we establish a connection to MongoDB, create/access the database, and create/access the collection within that database.\n",
    "Finally, we print a confirmation message if the connection and database/collection creation were successful."
   ]
  },
  {
   "cell_type": "code",
   "execution_count": null,
   "id": "d7eb87a7-1609-4c70-b234-6b8fd5b19f74",
   "metadata": {},
   "outputs": [],
   "source": []
  },
  {
   "cell_type": "markdown",
   "id": "5af327b3-c7a6-4a74-a672-8b34b8ed594d",
   "metadata": {},
   "source": [
    "Q4. Using the database and the collection created in question number 3, write a code to insert one record,\n",
    "and insert many records. Use the find() and find_one() methods to print the inserted record.\n",
    "\n",
    "ANS:\n",
    "\n"
   ]
  },
  {
   "cell_type": "code",
   "execution_count": null,
   "id": "bd36b3f1-ae94-44a6-9a8d-9d47a0cf6312",
   "metadata": {},
   "outputs": [],
   "source": [
    "import pymongo\n",
    "\n",
    "# Define the MongoDB connection parameters\n",
    "mongodb_uri = \"mongodb://localhost:27017/\"\n",
    "database_name = \"mydatabase\"\n",
    "collection_name = \"mycollection\"\n",
    "\n",
    "# Sample data for inserting multiple records\n",
    "data_to_insert = [\n",
    "    {\"name\": \"Alice\", \"age\": 30, \"city\": \"New York\"},\n",
    "    {\"name\": \"Bob\", \"age\": 25, \"city\": \"Los Angeles\"},\n",
    "    {\"name\": \"Charlie\", \"age\": 35, \"city\": \"San Francisco\"},\n",
    "]\n",
    "\n",
    "try:\n",
    "    # Establish a connection to MongoDB\n",
    "    client = pymongo.MongoClient(mongodb_uri)\n",
    "\n",
    "    # Access the database and collection\n",
    "    database = client[database_name]\n",
    "    collection = database[collection_name]\n",
    "\n",
    "    # Insert one record\n",
    "    record_to_insert = {\"name\": \"David\", \"age\": 28, \"city\": \"Chicago\"}\n",
    "    collection.insert_one(record_to_insert)\n",
    "\n",
    "    # Insert multiple records\n",
    "    collection.insert_many(data_to_insert)\n",
    "\n",
    "    # Find and print the inserted records\n",
    "    print(\"Inserted Records:\")\n",
    "    \n",
    "    # Using find() to retrieve all records\n",
    "    for record in collection.find():\n",
    "        print(record)\n",
    "\n",
    "    # Using find_one() to retrieve a single record\n",
    "    single_record = collection.find_one({\"name\": \"David\"})\n",
    "    print(\"\\nSingle Inserted Record:\")\n",
    "    print(single_record)\n",
    "\n",
    "except pymongo.errors.ConnectionFailure as e:\n",
    "    print(f\"Failed to connect to MongoDB: {e}\")\n"
   ]
  },
  {
   "cell_type": "code",
   "execution_count": null,
   "id": "bbf6b5c6-0413-4cc2-a34d-af65bba09905",
   "metadata": {},
   "outputs": [],
   "source": []
  },
  {
   "cell_type": "markdown",
   "id": "2929e40d-fcce-4046-8902-1fc6ea2cb029",
   "metadata": {},
   "source": [
    "Q5. Explain how you can use the find() method to query the MongoDB database. Write a simple code to\n",
    "demonstrate this.\n",
    "\n",
    "ANS:\n",
    "\n",
    "The find() method in MongoDB is used to query and retrieve documents from a collection based on specified criteria or filters. It returns a cursor that can be iterated through to access the documents that match the query conditions. The basic syntax of the find() method is as follows:"
   ]
  },
  {
   "cell_type": "code",
   "execution_count": null,
   "id": "38a241bd-0d87-4301-891b-4100054f28d9",
   "metadata": {},
   "outputs": [],
   "source": [
    "cursor = collection.find(query, projection)\n",
    "\n"
   ]
  },
  {
   "cell_type": "markdown",
   "id": "00e1b4c4-3875-4ac9-9cc9-01f3cb70ac5a",
   "metadata": {},
   "source": [
    "query: This parameter specifies the filter conditions to match documents. It is a dictionary where keys represent field names, and values represent the desired values or query operators (e.g., $eq, $gt, $lt, $in).\n",
    "\n",
    "projection (optional): This parameter specifies which fields should be included or excluded in the returned documents. It is also a dictionary, where 1 indicates inclusion, and 0 indicates exclusion."
   ]
  },
  {
   "cell_type": "code",
   "execution_count": null,
   "id": "9eb50f1d-9fbe-484d-8aa4-766074e1f048",
   "metadata": {},
   "outputs": [],
   "source": [
    "import pymongo\n",
    "\n",
    "# Define the MongoDB connection parameters\n",
    "mongodb_uri = \"mongodb://localhost:27017/\"\n",
    "database_name = \"mydatabase\"\n",
    "collection_name = \"mycollection\"\n",
    "\n",
    "try:\n",
    "    # Establish a connection to MongoDB\n",
    "    client = pymongo.MongoClient(mongodb_uri)\n",
    "\n",
    "    # Access the database and collection\n",
    "    database = client[database_name]\n",
    "    collection = database[collection_name]\n",
    "\n",
    "    # Query documents with age greater than 30\n",
    "    query = {\"age\": {\"$gt\": 30}}\n",
    "    \n",
    "    # Projection to include only name and age fields\n",
    "    projection = {\"name\": 1, \"age\": 1, \"_id\": 0}\n",
    "\n",
    "    # Use find() to retrieve matching documents\n",
    "    cursor = collection.find(query, projection)\n",
    "\n",
    "    # Iterate through the cursor and print the results\n",
    "    print(\"Matching Records:\")\n",
    "    for document in cursor:\n",
    "        print(document)\n",
    "\n",
    "except pymongo.errors.ConnectionFailure as e:\n",
    "    print(f\"Failed to connect to MongoDB: {e}\")\n"
   ]
  },
  {
   "cell_type": "code",
   "execution_count": null,
   "id": "c82e1a34-0b42-40df-9d9b-fe29f7d0aa34",
   "metadata": {},
   "outputs": [],
   "source": []
  },
  {
   "cell_type": "markdown",
   "id": "68279f18-0431-45d5-8a85-773a92324013",
   "metadata": {},
   "source": [
    "Q6. Explain the sort() method. Give an example to demonstrate sorting in MongoDB.\n",
    "\n",
    "ANS:\n",
    "\n",
    "The sort() method in MongoDB is used to specify the order in which documents should be returned in the result set when querying a collection. You can use this method to sort documents based on one or more fields in ascending (ascending order) or descending (descending order) order."
   ]
  },
  {
   "cell_type": "code",
   "execution_count": null,
   "id": "18f8aa25-0e16-4e82-8c88-1b919bb985fa",
   "metadata": {},
   "outputs": [],
   "source": [
    "cursor = collection.find(query).sort(sort_field, direction)\n",
    "\n"
   ]
  },
  {
   "cell_type": "markdown",
   "id": "50f8cdbf-c43a-481c-b71a-829719ba53fc",
   "metadata": {},
   "source": [
    "query: This is the filter condition for the documents you want to retrieve.\n",
    "\n",
    "sort_field: This parameter specifies the field by which you want to sort the documents.\n",
    "\n",
    "direction: This parameter specifies the sorting direction, and it can have the following values:\n",
    "\n",
    "pymongo.ASCENDING (or 1): Sort in ascending order (default).\n",
    "\n",
    "pymongo.DESCENDING (or -1): Sort in descending order.\n",
    "\n",
    "Here's an example that demonstrates sorting in MongoDB using the sort() method:"
   ]
  },
  {
   "cell_type": "code",
   "execution_count": null,
   "id": "c4093857-db88-4c21-b726-e5923bb3f275",
   "metadata": {},
   "outputs": [],
   "source": [
    "import pymongo\n",
    "\n",
    "# Define the MongoDB connection parameters\n",
    "mongodb_uri = \"mongodb://localhost:27017/\"\n",
    "database_name = \"mydatabase\"\n",
    "collection_name = \"students\"\n",
    "\n",
    "try:\n",
    "    # Establish a connection to MongoDB\n",
    "    client = pymongo.MongoClient(mongodb_uri)\n",
    "\n",
    "    # Access the database and collection\n",
    "    database = client[database_name]\n",
    "    collection = database[collection_name]\n",
    "\n",
    "    # Query and sort documents by the \"score\" field in descending order\n",
    "    query = {}  # An empty query to retrieve all documents\n",
    "    sort_field = \"score\"\n",
    "    direction = pymongo.DESCENDING\n",
    "\n",
    "    # Use find() with sort() to retrieve and sort matching documents\n",
    "    cursor = collection.find(query).sort(sort_field, direction)\n",
    "\n",
    "    # Iterate through the cursor and print the sorted results\n",
    "    print(\"Sorted Records (Descending by Score):\")\n",
    "    for document in cursor:\n",
    "        print(document)\n",
    "\n",
    "except pymongo.errors.ConnectionFailure as e:\n",
    "    print(f\"Failed to connect to MongoDB: {e}\")\n"
   ]
  },
  {
   "cell_type": "code",
   "execution_count": null,
   "id": "dc29d7d2-02da-4c86-8d49-9c1399c7bd9b",
   "metadata": {},
   "outputs": [],
   "source": []
  },
  {
   "cell_type": "markdown",
   "id": "af8e1584-e660-4d85-8f7f-312e092ec3f8",
   "metadata": {},
   "source": [
    "Q7. Explain why delete_one(), delete_many(), and drop() is used.\n",
    "\n",
    "ANS:\n",
    "\n",
    "delete_one() Method:\n",
    "\n",
    "delete_one() is used when you want to delete a single document that matches a specified filter condition.\n",
    "It removes the first document found that matches the filter and then stops searching.\n",
    "Useful for scenarios where you need to remove a specific document or a single occurrence of a document based on certain criteria.\n",
    "For example, you can use delete_one() to remove a single comment from a blog post or to delete a user profile by their unique identifier.\n",
    "\n",
    "delete_many() Method:\n",
    "\n",
    "delete_many() is employed when you want to delete multiple documents that match a specified filter condition.\n",
    "It removes all documents that meet the filter criteria, not just the first match.\n",
    "Valuable when you need to perform bulk deletion operations, such as removing all records that are no longer relevant or are marked as \"archived.\"\n",
    "Commonly used in scenarios like cleaning up outdated log entries or purging expired user sessions.\n",
    "\n",
    "drop() Method (Collection Deletion):\n",
    "\n",
    "drop() is used to delete an entire collection, including all of its documents and associated indexes.\n",
    "It permanently removes the collection from the database, and there is no way to recover the data once it's dropped.\n",
    "Typically used when you want to get rid of an entire collection, for example, when you no longer need it or when you want to start with a fresh, empty collection.\n",
    "Be extremely cautious when using drop() because it irreversibly deletes all data in the collection."
   ]
  },
  {
   "cell_type": "code",
   "execution_count": null,
   "id": "4582ba98-c6fd-463c-85ce-65ecf22370a2",
   "metadata": {},
   "outputs": [],
   "source": []
  }
 ],
 "metadata": {
  "kernelspec": {
   "display_name": "Python 3 (ipykernel)",
   "language": "python",
   "name": "python3"
  },
  "language_info": {
   "codemirror_mode": {
    "name": "ipython",
    "version": 3
   },
   "file_extension": ".py",
   "mimetype": "text/x-python",
   "name": "python",
   "nbconvert_exporter": "python",
   "pygments_lexer": "ipython3",
   "version": "3.10.8"
  }
 },
 "nbformat": 4,
 "nbformat_minor": 5
}
